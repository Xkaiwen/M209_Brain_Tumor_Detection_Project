{
 "cells": [
  {
   "cell_type": "markdown",
   "metadata": {
    "id": "GK4wm5Ra1kzE"
   },
   "source": [
    "Image Pre-Processing: Part 1 Crop the Image.\n",
    "For the unprocessed images, just finish this step."
   ]
  },
  {
   "cell_type": "code",
   "execution_count": 3,
   "metadata": {
    "colab": {
     "base_uri": "https://localhost:8080/"
    },
    "id": "tb1g22Gux6NT",
    "outputId": "8b31b288-3b1b-455b-e902-0328c448a78e"
   },
   "outputs": [
    {
     "name": "stdout",
     "output_type": "stream",
     "text": [
      "Drive already mounted at /content/drive; to attempt to forcibly remount, call drive.mount(\"/content/drive\", force_remount=True).\n",
      "Training directory contents: ['pituitary', 'glioma', 'notumor', 'meningioma']\n",
      "Validation directory contents: ['meningioma', 'notumor', 'pituitary', 'glioma']\n"
     ]
    },
    {
     "name": "stderr",
     "output_type": "stream",
     "text": [
      "100%|██████████| 1457/1457 [00:46<00:00, 31.64it/s]\n",
      "100%|██████████| 1321/1321 [00:40<00:00, 32.75it/s]\n",
      "100%|██████████| 1595/1595 [01:08<00:00, 23.43it/s]\n",
      "100%|██████████| 1339/1339 [00:58<00:00, 22.98it/s]\n",
      "100%|██████████| 306/306 [00:11<00:00, 26.55it/s]\n",
      "100%|██████████| 405/405 [00:13<00:00, 29.44it/s]\n",
      "100%|██████████| 300/300 [00:10<00:00, 28.58it/s]\n",
      "100%|██████████| 300/300 [00:11<00:00, 25.98it/s]\n"
     ]
    }
   ],
   "source": [
    "import numpy as np\n",
    "import os\n",
    "import cv2\n",
    "from tqdm import tqdm\n",
    "import imutils\n",
    "\n",
    "def crop_img(img):\n",
    "    gray = cv2.cvtColor(img, cv2.COLOR_RGB2GRAY)\n",
    "    gray = cv2.GaussianBlur(gray, (3, 3), 0)\n",
    "    thresh = cv2.threshold(gray, 45, 255, cv2.THRESH_BINARY)[1]\n",
    "    thresh = cv2.erode(thresh, None, iterations=2)\n",
    "    thresh = cv2.dilate(thresh, None, iterations=2)\n",
    "    cnts = cv2.findContours(thresh.copy(), cv2.RETR_EXTERNAL, cv2.CHAIN_APPROX_SIMPLE)\n",
    "    cnts = imutils.grab_contours(cnts)\n",
    "    c = max(cnts, key=cv2.contourArea)\n",
    "    extLeft = tuple(c[c[:, :, 0].argmin()][0])\n",
    "    extRight = tuple(c[c[:, :, 0].argmax()][0])\n",
    "    extTop = tuple(c[c[:, :, 1].argmin()][0])\n",
    "    extBot = tuple(c[c[:, :, 1].argmax()][0])\n",
    "    ADD_PIXELS = 0\n",
    "    new_img = img[extTop[1]-ADD_PIXELS:extBot[1]+ADD_PIXELS, extLeft[0]-ADD_PIXELS:extRight[0]+ADD_PIXELS].copy()\n",
    "    return new_img\n",
    "\n",
    "from google.colab import drive\n",
    "drive.mount('/content/drive')\n",
    "\n",
    "if __name__ == \"__main__\":\n",
    "    base_dir = \"/content/drive/My Drive\"\n",
    "    training = os.path.join(base_dir, \"M209Data/Training\")\n",
    "    validation = os.path.join(base_dir, \"M209Data/Validation\")\n",
    "    IMG_SIZE = 256\n",
    "\n",
    "    print(\"Training directory contents:\", os.listdir(training))\n",
    "    print(\"Validation directory contents:\", os.listdir(validation))\n",
    "\n",
    "    for dir in os.listdir(training):\n",
    "        save_path = os.path.join(base_dir, 'Cropped', dir)\n",
    "        path = os.path.join(training, dir)\n",
    "        image_dir = os.listdir(path)\n",
    "        if not os.path.exists(save_path):\n",
    "            os.makedirs(save_path)\n",
    "        for img in tqdm(image_dir):\n",
    "            image_path = os.path.join(path, img)\n",
    "            image = cv2.imread(image_path)\n",
    "            new_img = crop_img(image)\n",
    "            new_img = cv2.resize(new_img, (IMG_SIZE, IMG_SIZE))\n",
    "            cv2.imwrite(os.path.join(save_path, img), new_img)\n",
    "\n",
    "    for dir in os.listdir(validation):\n",
    "        save_path = os.path.join(base_dir, 'Cropped', dir)\n",
    "        path = os.path.join(validation, dir)\n",
    "        image_dir = os.listdir(path)\n",
    "        if not os.path.exists(save_path):\n",
    "            os.makedirs(save_path)\n",
    "        for img in tqdm(image_dir):\n",
    "            image_path = os.path.join(path, img)\n",
    "            image = cv2.imread(image_path)\n",
    "            new_img = crop_img(image)\n",
    "            new_img = cv2.resize(new_img, (IMG_SIZE, IMG_SIZE))\n",
    "            cv2.imwrite(os.path.join(save_path, img), new_img)"
   ]
  },
  {
   "cell_type": "markdown",
   "metadata": {
    "id": "0mr12koZ_1hg"
   },
   "source": [
    "Image Pre-Processing Part 2"
   ]
  },
  {
   "cell_type": "code",
   "execution_count": 5,
   "metadata": {
    "colab": {
     "base_uri": "https://localhost:8080/"
    },
    "id": "Fkhb9M7__0Nr",
    "outputId": "37810be0-b759-4ec8-8d60-56645ecd009e"
   },
   "outputs": [
    {
     "name": "stdout",
     "output_type": "stream",
     "text": [
      "Drive already mounted at /content/drive; to attempt to forcibly remount, call drive.mount(\"/content/drive\", force_remount=True).\n"
     ]
    }
   ],
   "source": [
    "import numpy as np\n",
    "import cv2\n",
    "import os\n",
    "\n",
    "def preprocess_image(img_path, output_path):\n",
    "    img = cv2.imread(img_path)\n",
    "    if img is None:\n",
    "        print(\"Failed to load image:\", img_path)\n",
    "        return\n",
    "\n",
    "    #Salt and Pepper Noise Removal\n",
    "    gray_img = cv2.cvtColor(img, cv2.COLOR_BGR2GRAY)\n",
    "    median_filtered = cv2.medianBlur(gray_img, 5)\n",
    "\n",
    "    #Edge Detection\n",
    "    img_sobelx = cv2.Sobel(median_filtered, cv2.CV_8U, 1, 0, ksize=3)\n",
    "    img_sobely = cv2.Sobel(median_filtered, cv2.CV_8U, 0, 1, ksize=3)\n",
    "    img_sobel = img_sobelx + img_sobely + gray_img\n",
    "\n",
    "    #Thresholding\n",
    "    _, thresh = cv2.threshold(img_sobel, 50, 255, cv2.THRESH_BINARY)\n",
    "\n",
    "    cv2.imwrite(output_path, img)\n",
    "\n",
    "from google.colab import drive\n",
    "drive.mount('/content/drive')\n",
    "\n",
    "def process_directory(directory_path, output_directory):\n",
    "    if not os.path.exists(output_directory):\n",
    "        os.makedirs(output_directory)\n",
    "\n",
    "    for root, dirs, files in os.walk(directory_path):\n",
    "        for file in files:\n",
    "            if file.lower().endswith(('.png', '.jpg', '.jpeg')):\n",
    "                file_path = os.path.join(root, file)\n",
    "                output_path = os.path.join(output_directory, os.path.relpath(file_path, directory_path))\n",
    "                output_file_directory = os.path.dirname(output_path)\n",
    "                if not os.path.exists(output_file_directory):\n",
    "                    os.makedirs(output_file_directory)\n",
    "                preprocess_image(file_path, output_path)\n",
    "\n",
    "base_dir = \"/content/drive/My Drive/M209Data\"\n",
    "output_dir = \"/content/drive/My Drive/Processed\"\n",
    "\n",
    "process_directory(base_dir, output_dir)"
   ]
  }
 ],
 "metadata": {
  "colab": {
   "provenance": []
  },
  "kernelspec": {
   "display_name": "Python 3",
   "name": "python3"
  },
  "language_info": {
   "name": "python"
  }
 },
 "nbformat": 4,
 "nbformat_minor": 0
}
